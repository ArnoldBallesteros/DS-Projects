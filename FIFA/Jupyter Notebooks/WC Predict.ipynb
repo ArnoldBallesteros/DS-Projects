{
 "cells": [
  {
   "cell_type": "code",
   "execution_count": 75,
   "metadata": {},
   "outputs": [],
   "source": [
    "import pandas as pd\n",
    "import numpy as np \n",
    "from sklearn.model_selection import train_test_split\n",
    "from sklearn.metrics import classification_report\n",
    "import sklearn.metrics\n",
    "from sklearn.ensemble import RandomForestClassifier\n",
    "from sklearn.tree import DecisionTreeClassifier\n",
    "from sklearn.linear_model import LogisticRegression\n",
    "#import xgboost\n",
    "\n",
    "df = pd.read_csv(\"WorldCupMatches.csv\")\n",
    "\n",
    "np.random.seed(0)"
   ]
  },
  {
   "cell_type": "code",
   "execution_count": 87,
   "metadata": {},
   "outputs": [
    {
     "name": "stdout",
     "output_type": "stream",
     "text": [
      "Morocco\n",
      "Home Appearances = 201\n",
      "Away Appearances = 156\n",
      "Total Apperances = 357\n",
      "Win Percentage = 65.3%\n"
     ]
    }
   ],
   "source": [
    "df = pd.read_csv(\"results2.csv\")\n",
    "#print(df.columns)\n",
    "isHome = lambda x:pd.Series(df[\"Home Team Name\"] == x)\n",
    "isAway = lambda x:pd.Series(df[\"Away Team Name\"] == x)\n",
    "isWin = lambda x:pd.Series(df[\"Home Win\"] == x)\n",
    "#isStage = lambda x:pd.Series(df[\"Stage\"] == x )\n",
    "\n",
    "Nation = \"Morocco\"\n",
    "print(Nation)\n",
    "print(\"Home Appearances = \" + str(isHome(Nation).sum()))\n",
    "print(\"Away Appearances = \" + str(isAway(Nation).sum()))\n",
    "print(\"Total Apperances = \" + str(isHome(Nation).sum() + isAway(Nation).sum()))\n",
    "#print(\"Win = \" + str(isWin(Nation).sum()))\n",
    "print(\"Win Percentage = {0:.1f}%\".format(100*isWin(Nation).sum()/(isHome(Nation).sum() + isAway(Nation).sum())) )\n",
    "\n",
    "#print((df[\"Win\"] == \"Germany\").count())\n",
    "#features[((features[\"Away Team Name\"] == \"Brazil\") |(features[\"Home Team Name\"] == \"Brazil\"))  & (features['Stage'] == \"Final\" )]"
   ]
  },
  {
   "cell_type": "code",
   "execution_count": 37,
   "metadata": {},
   "outputs": [],
   "source": [
    "wc_teams = ['Australia','Iran','Japan','Korea','Saudi Arabia',\n",
    "            'Egypt','Morocco','Nigeria','Senegal','Tunisia',\n",
    "            'Costa Rica','Mexico','Panama','Argentina','Brazil',\n",
    "            'Colombia','Peru','Uruguay','Belgium','Croatia','Denmark',\n",
    "            'England','France','Germany','Iceland','Poland','Portugal',\n",
    "            'Russia','Serbia','Spain','Sweden','Switzerland']\n",
    "#df = (df[df.Year!=2018])\n",
    "features = (df.drop(['date', 'tournament','city','country','neutral'],axis=1))"
   ]
  },
  {
   "cell_type": "code",
   "execution_count": 38,
   "metadata": {},
   "outputs": [
    {
     "ename": "SyntaxError",
     "evalue": "EOF while scanning triple-quoted string literal (<ipython-input-38-710ed7e10744>, line 16)",
     "output_type": "error",
     "traceback": [
      "\u001b[1;36m  File \u001b[1;32m\"<ipython-input-38-710ed7e10744>\"\u001b[1;36m, line \u001b[1;32m16\u001b[0m\n\u001b[1;33m    #features[((features[\"Away Team Name\"] == \"Brazil\") |(features[\"Home Team Name\"] == \"Brazil\"))  & (features['Stage'] == \"Final\" )]\u001b[0m\n\u001b[1;37m                                                                                                                                      \n^\u001b[0m\n\u001b[1;31mSyntaxError\u001b[0m\u001b[1;31m:\u001b[0m EOF while scanning triple-quoted string literal\n"
     ]
    }
   ],
   "source": [
    "\"\"\"\n",
    "isHome = lambda x:pd.Series(df[\"Home Team Name\"] == x)\n",
    "isAway = lambda x:pd.Series(df[\"Away Team Name\"] == x)\n",
    "isWin = lambda x:pd.Series(df[\"Win\"] == x)\n",
    "isStage = lambda x:pd.Series(df[\"Stage\"] == x )\n",
    "\n",
    "Nation = \"Germany\"\n",
    "\n",
    "print(\"Home Appearances = \" + str(isHome(Nation).sum()))\n",
    "print(\"Away Appearances = \" + str(isAway(Nation).sum()))\n",
    "print(\"Total Apperances = \" + str(isHome(Nation).sum() + isAway(Nation).sum()))\n",
    "#print(\"Win = \" + str(isWin(Nation).sum()))\n",
    "print(\"Win Percentage = {0:.1f}%\".format(100*isWin(Nation).sum()/(isHome(Nation).sum() + isAway(Nation).sum())) )\n",
    "\n",
    "#print((df[\"Win\"] == \"Germany\").count())\n",
    "#features[((features[\"Away Team Name\"] == \"Brazil\") |(features[\"Home Team Name\"] == \"Brazil\"))  & (features['Stage'] == \"Final\" )]"
   ]
  },
  {
   "cell_type": "code",
   "execution_count": 39,
   "metadata": {},
   "outputs": [
    {
     "data": {
      "text/plain": [
       "0         True\n",
       "4        False\n",
       "8         True\n",
       "9         True\n",
       "14       False\n",
       "15       False\n",
       "22        True\n",
       "23        True\n",
       "24       False\n",
       "32        True\n",
       "43        True\n",
       "45        True\n",
       "47       False\n",
       "49        True\n",
       "56        True\n",
       "57        True\n",
       "59       False\n",
       "67        True\n",
       "68        True\n",
       "76        True\n",
       "77        True\n",
       "80        True\n",
       "85        True\n",
       "87        True\n",
       "93        True\n",
       "96        True\n",
       "97       False\n",
       "104       True\n",
       "107       True\n",
       "109       True\n",
       "         ...  \n",
       "30483     True\n",
       "30484     True\n",
       "30485    False\n",
       "30486     True\n",
       "30487    False\n",
       "30488     True\n",
       "30489     True\n",
       "30490    False\n",
       "30491     True\n",
       "30492    False\n",
       "30493     True\n",
       "30494     True\n",
       "30495    False\n",
       "30496    False\n",
       "30497     True\n",
       "30498    False\n",
       "30499    False\n",
       "30500    False\n",
       "30501     True\n",
       "30502    False\n",
       "30503    False\n",
       "30504    False\n",
       "30505    False\n",
       "30506    False\n",
       "30507    False\n",
       "30508     True\n",
       "30509     True\n",
       "30510     True\n",
       "30511     True\n",
       "30512     True\n",
       "Name: Home Win, Length: 15549, dtype: bool"
      ]
     },
     "execution_count": 39,
     "metadata": {},
     "output_type": "execute_result"
    }
   ],
   "source": [
    "#print(df[(df[\"Stage\"] == \"Quarter-finals\") & (df[\"Home Team Name\"].str.contains(Nation) | df[\"Away Team Name\"].str.contains(Nation))])\n",
    "features['Home Win'] = features[\"Home Score\"] > features[\"Away Score\"]\n",
    "#features['Home Team Name'] = features['Home Team Name'].replace('Germany FR', 'Germany')\n",
    "#features['Away Team Name'] = features['Away Team Name'].replace('Germany FR', 'Germany')\n",
    "\n",
    "wc_home = features[features['Home Team Name'].isin(wc_teams)]\n",
    "wc_away = features[features['Away Team Name'].isin(wc_teams)]\n",
    "final = pd.concat((wc_home,wc_away))\n",
    "\n",
    "final = final.drop(['Home Score','Away Score'],axis=1)\n",
    "final.drop_duplicates()\n",
    "#features[(features['Home Team Name'] == \"Italy\") & (features['Stage'] == \"Final\")]\n",
    "#one_hot = pd.get_dummies(features)\n",
    "#print(final)\n",
    "final[\"Home Win\"] "
   ]
  },
  {
   "cell_type": "code",
   "execution_count": null,
   "metadata": {},
   "outputs": [],
   "source": [
    "\n"
   ]
  },
  {
   "cell_type": "code",
   "execution_count": 40,
   "metadata": {},
   "outputs": [
    {
     "name": "stdout",
     "output_type": "stream",
     "text": [
      "Index(['Home Win', 'Home Team Name_Afghanistan', 'Home Team Name_Albania',\n",
      "       'Home Team Name_Algeria', 'Home Team Name_Andorra',\n",
      "       'Home Team Name_Angola', 'Home Team Name_Argentina',\n",
      "       'Home Team Name_Armenia', 'Home Team Name_Australia',\n",
      "       'Home Team Name_Austria',\n",
      "       ...\n",
      "       'Away Team Name_Vanuatu', 'Away Team Name_Venezuela',\n",
      "       'Away Team Name_Vietnam', 'Away Team Name_Vietnam Republic',\n",
      "       'Away Team Name_Wales', 'Away Team Name_Yemen',\n",
      "       'Away Team Name_Yemen DPR', 'Away Team Name_Yugoslavia',\n",
      "       'Away Team Name_Zambia', 'Away Team Name_Zimbabwe'],\n",
      "      dtype='object', length=409)\n"
     ]
    }
   ],
   "source": [
    "encoded = pd.get_dummies(final)\n",
    "print(encoded.columns)\n",
    "labels = encoded['Home Win'].values\n",
    "\n",
    "#encoded[\"is_train\"]=np.random.uniform(0,1,len(encoded)) <= .7\n",
    "\n",
    "#features.head(10)\n",
    "\n",
    "features = encoded.loc[:, encoded.columns != \"Home Win\"]"
   ]
  },
  {
   "cell_type": "code",
   "execution_count": 41,
   "metadata": {},
   "outputs": [
    {
     "data": {
      "text/plain": [
       "array([ True, False,  True, ...,  True,  True,  True])"
      ]
     },
     "execution_count": 41,
     "metadata": {},
     "output_type": "execute_result"
    }
   ],
   "source": [
    "labels"
   ]
  },
  {
   "cell_type": "code",
   "execution_count": 42,
   "metadata": {
    "scrolled": true
   },
   "outputs": [
    {
     "name": "stdout",
     "output_type": "stream",
     "text": [
      "Number of Features in the training data: (11661, 408)\n",
      "Number of Labels in the training data: (11661,)\n",
      "Number of Features in the test data: (3888, 408)\n",
      "Number of Labels in the test data: (3888,)\n"
     ]
    }
   ],
   "source": [
    "#train,test = encoded[encoded['is_train'] == True],encoded[encoded['is_train'] == False]\n",
    "\n",
    "train_features,test_features,train_labels,test_labels = train_test_split(features,labels,test_size = 0.25,random_state = 42)\n",
    "\n",
    "print('Number of Features in the training data:', train_features.shape)\n",
    "print('Number of Labels in the training data:', train_labels.shape)\n",
    "print('Number of Features in the test data:', test_features.shape)\n",
    "print('Number of Labels in the test data:',test_labels.shape)"
   ]
  },
  {
   "cell_type": "code",
   "execution_count": 334,
   "metadata": {
    "scrolled": true
   },
   "outputs": [],
   "source": [
    "#encoded = encoded.drop(['Home Win', 'is_train'])\n",
    "#labels = list(labels).pop()\n",
    "#home_win = train['Home Win'].values"
   ]
  },
  {
   "cell_type": "code",
   "execution_count": 335,
   "metadata": {},
   "outputs": [],
   "source": [
    "#train[labels]"
   ]
  },
  {
   "cell_type": "code",
   "execution_count": 43,
   "metadata": {},
   "outputs": [
    {
     "ename": "NameError",
     "evalue": "name 'train' is not defined",
     "output_type": "error",
     "traceback": [
      "\u001b[1;31m---------------------------------------------------------------------------\u001b[0m",
      "\u001b[1;31mNameError\u001b[0m                                 Traceback (most recent call last)",
      "\u001b[1;32m<ipython-input-43-dde59fa0401c>\u001b[0m in \u001b[0;36m<module>\u001b[1;34m()\u001b[0m\n\u001b[1;32m----> 1\u001b[1;33m \u001b[0mprint\u001b[0m\u001b[1;33m(\u001b[0m\u001b[0mtrain\u001b[0m\u001b[1;33m[\u001b[0m\u001b[0mlabels\u001b[0m\u001b[1;33m]\u001b[0m\u001b[1;33m)\u001b[0m\u001b[1;33m\u001b[0m\u001b[0m\n\u001b[0m",
      "\u001b[1;31mNameError\u001b[0m: name 'train' is not defined"
     ]
    }
   ],
   "source": [
    "#print(train[labels])"
   ]
  },
  {
   "cell_type": "code",
   "execution_count": 77,
   "metadata": {},
   "outputs": [
    {
     "data": {
      "text/plain": [
       "LogisticRegression(C=1.0, class_weight=None, dual=False, fit_intercept=True,\n",
       "          intercept_scaling=1, max_iter=100, multi_class='ovr', n_jobs=1,\n",
       "          penalty='l2', random_state=None, solver='liblinear', tol=0.0001,\n",
       "          verbose=0, warm_start=False)"
      ]
     },
     "execution_count": 77,
     "metadata": {},
     "output_type": "execute_result"
    }
   ],
   "source": [
    "#clf = RandomForestClassifier(n_jobs=-1, random_state = 3, min_samples_split = 2)\n",
    "#clf = DecisionTreeClassifier(max_depth = 100)\n",
    "clf = LogisticRegression()\n",
    "#clf = DecisionTreeClassifier(max_depth = 100)\n",
    "clf.fit(train_features,train_labels)"
   ]
  },
  {
   "cell_type": "code",
   "execution_count": null,
   "metadata": {},
   "outputs": [],
   "source": []
  },
  {
   "cell_type": "code",
   "execution_count": 78,
   "metadata": {},
   "outputs": [
    {
     "name": "stdout",
     "output_type": "stream",
     "text": [
      "Test Score: 73.19958847736625\n"
     ]
    }
   ],
   "source": [
    "predictions = clf.predict(test_features)\n",
    "#errors = abs(predictions - test_labels)\n",
    "#eval_model = test[[\"Home Win\",\"Predict\"]]\n",
    "from sklearn.metrics import accuracy_score\n",
    "#print(\"Train Score: \" + str(accuracy_score(pred,train[\"Home Win\"].values)))\n",
    "print(\"Test Score: \" + str(accuracy_score(test_labels,predictions)*100))\n",
    "#accuracy_score(test[\"Home Win\"],test[\"Predict\"])"
   ]
  },
  {
   "cell_type": "code",
   "execution_count": 79,
   "metadata": {},
   "outputs": [
    {
     "data": {
      "text/plain": [
       "array([[ 745,  719],\n",
       "       [ 323, 2101]], dtype=int64)"
      ]
     },
     "execution_count": 79,
     "metadata": {},
     "output_type": "execute_result"
    }
   ],
   "source": [
    "sklearn.metrics.confusion_matrix(test_labels,predictions)"
   ]
  },
  {
   "cell_type": "code",
   "execution_count": 80,
   "metadata": {},
   "outputs": [
    {
     "ename": "NameError",
     "evalue": "name 'eval_model' is not defined",
     "output_type": "error",
     "traceback": [
      "\u001b[1;31m---------------------------------------------------------------------------\u001b[0m",
      "\u001b[1;31mNameError\u001b[0m                                 Traceback (most recent call last)",
      "\u001b[1;32m<ipython-input-80-352e2cb11286>\u001b[0m in \u001b[0;36m<module>\u001b[1;34m()\u001b[0m\n\u001b[1;32m----> 1\u001b[1;33m \u001b[1;33m(\u001b[0m\u001b[0mnp\u001b[0m\u001b[1;33m.\u001b[0m\u001b[0msum\u001b[0m\u001b[1;33m(\u001b[0m\u001b[0meval_model\u001b[0m\u001b[1;33m[\u001b[0m\u001b[1;34m\"Home Win\"\u001b[0m\u001b[1;33m]\u001b[0m \u001b[1;33m==\u001b[0m \u001b[0meval_model\u001b[0m\u001b[1;33m[\u001b[0m\u001b[1;34m\"Predict\"\u001b[0m\u001b[1;33m]\u001b[0m\u001b[1;33m)\u001b[0m\u001b[1;33m)\u001b[0m\u001b[1;33m/\u001b[0m\u001b[1;33m(\u001b[0m\u001b[0meval_model\u001b[0m\u001b[1;33m.\u001b[0m\u001b[0mcount\u001b[0m\u001b[1;33m(\u001b[0m\u001b[1;33m)\u001b[0m\u001b[1;33m)\u001b[0m\u001b[1;33m\u001b[0m\u001b[0m\n\u001b[0m",
      "\u001b[1;31mNameError\u001b[0m: name 'eval_model' is not defined"
     ]
    }
   ],
   "source": [
    "(np.sum(eval_model[\"Home Win\"] == eval_model[\"Predict\"]))/(eval_model.count())"
   ]
  },
  {
   "cell_type": "code",
   "execution_count": 373,
   "metadata": {},
   "outputs": [],
   "source": [
    "#print(test[labels])"
   ]
  },
  {
   "cell_type": "code",
   "execution_count": 48,
   "metadata": {},
   "outputs": [
    {
     "ename": "KeyError",
     "evalue": "'Home Team Name'",
     "output_type": "error",
     "traceback": [
      "\u001b[1;31m---------------------------------------------------------------------------\u001b[0m",
      "\u001b[1;31mKeyError\u001b[0m                                  Traceback (most recent call last)",
      "\u001b[1;32m~\\AppData\\Local\\Continuum\\anaconda3\\lib\\site-packages\\pandas\\core\\indexes\\base.py\u001b[0m in \u001b[0;36mget_loc\u001b[1;34m(self, key, method, tolerance)\u001b[0m\n\u001b[0;32m   2524\u001b[0m             \u001b[1;32mtry\u001b[0m\u001b[1;33m:\u001b[0m\u001b[1;33m\u001b[0m\u001b[0m\n\u001b[1;32m-> 2525\u001b[1;33m                 \u001b[1;32mreturn\u001b[0m \u001b[0mself\u001b[0m\u001b[1;33m.\u001b[0m\u001b[0m_engine\u001b[0m\u001b[1;33m.\u001b[0m\u001b[0mget_loc\u001b[0m\u001b[1;33m(\u001b[0m\u001b[0mkey\u001b[0m\u001b[1;33m)\u001b[0m\u001b[1;33m\u001b[0m\u001b[0m\n\u001b[0m\u001b[0;32m   2526\u001b[0m             \u001b[1;32mexcept\u001b[0m \u001b[0mKeyError\u001b[0m\u001b[1;33m:\u001b[0m\u001b[1;33m\u001b[0m\u001b[0m\n",
      "\u001b[1;32mpandas/_libs/index.pyx\u001b[0m in \u001b[0;36mpandas._libs.index.IndexEngine.get_loc\u001b[1;34m()\u001b[0m\n",
      "\u001b[1;32mpandas/_libs/index.pyx\u001b[0m in \u001b[0;36mpandas._libs.index.IndexEngine.get_loc\u001b[1;34m()\u001b[0m\n",
      "\u001b[1;32mpandas/_libs/hashtable_class_helper.pxi\u001b[0m in \u001b[0;36mpandas._libs.hashtable.PyObjectHashTable.get_item\u001b[1;34m()\u001b[0m\n",
      "\u001b[1;32mpandas/_libs/hashtable_class_helper.pxi\u001b[0m in \u001b[0;36mpandas._libs.hashtable.PyObjectHashTable.get_item\u001b[1;34m()\u001b[0m\n",
      "\u001b[1;31mKeyError\u001b[0m: 'Home Team Name'",
      "\nDuring handling of the above exception, another exception occurred:\n",
      "\u001b[1;31mKeyError\u001b[0m                                  Traceback (most recent call last)",
      "\u001b[1;32m<ipython-input-48-d90812d6ee8b>\u001b[0m in \u001b[0;36m<module>\u001b[1;34m()\u001b[0m\n\u001b[0;32m      5\u001b[0m             \u001b[1;34m'England'\u001b[0m\u001b[1;33m,\u001b[0m\u001b[1;34m'France'\u001b[0m\u001b[1;33m,\u001b[0m\u001b[1;34m'Germany'\u001b[0m\u001b[1;33m,\u001b[0m\u001b[1;34m'Iceland'\u001b[0m\u001b[1;33m,\u001b[0m\u001b[1;34m'Poland'\u001b[0m\u001b[1;33m,\u001b[0m\u001b[1;34m'Portugal'\u001b[0m\u001b[1;33m,\u001b[0m\u001b[1;33m\u001b[0m\u001b[0m\n\u001b[0;32m      6\u001b[0m             'Russia','Serbia','Spain','Sweden','Switzerland']\n\u001b[1;32m----> 7\u001b[1;33m \u001b[0mwc_home\u001b[0m \u001b[1;33m=\u001b[0m \u001b[0mfeatures\u001b[0m\u001b[1;33m[\u001b[0m\u001b[0mfeatures\u001b[0m\u001b[1;33m[\u001b[0m\u001b[1;34m'Home Team Name'\u001b[0m\u001b[1;33m]\u001b[0m\u001b[1;33m.\u001b[0m\u001b[0misin\u001b[0m\u001b[1;33m(\u001b[0m\u001b[0mwc_teams\u001b[0m\u001b[1;33m)\u001b[0m\u001b[1;33m]\u001b[0m\u001b[1;33m\u001b[0m\u001b[0m\n\u001b[0m\u001b[0;32m      8\u001b[0m \u001b[0mwc_home\u001b[0m \u001b[1;33m=\u001b[0m \u001b[0mwc_home\u001b[0m\u001b[1;33m.\u001b[0m\u001b[0mdrop\u001b[0m\u001b[1;33m(\u001b[0m\u001b[0mcolumns\u001b[0m\u001b[1;33m=\u001b[0m\u001b[1;34m'Stage'\u001b[0m\u001b[1;33m)\u001b[0m\u001b[1;33m\u001b[0m\u001b[0m\n\u001b[0;32m      9\u001b[0m \u001b[0mwc_away\u001b[0m \u001b[1;33m=\u001b[0m \u001b[0mfeatures\u001b[0m\u001b[1;33m[\u001b[0m\u001b[0mfeatures\u001b[0m\u001b[1;33m[\u001b[0m\u001b[1;34m'Away Team Name'\u001b[0m\u001b[1;33m]\u001b[0m\u001b[1;33m.\u001b[0m\u001b[0misin\u001b[0m\u001b[1;33m(\u001b[0m\u001b[0mwc_teams\u001b[0m\u001b[1;33m)\u001b[0m\u001b[1;33m]\u001b[0m\u001b[1;33m\u001b[0m\u001b[0m\n",
      "\u001b[1;32m~\\AppData\\Local\\Continuum\\anaconda3\\lib\\site-packages\\pandas\\core\\frame.py\u001b[0m in \u001b[0;36m__getitem__\u001b[1;34m(self, key)\u001b[0m\n\u001b[0;32m   2137\u001b[0m             \u001b[1;32mreturn\u001b[0m \u001b[0mself\u001b[0m\u001b[1;33m.\u001b[0m\u001b[0m_getitem_multilevel\u001b[0m\u001b[1;33m(\u001b[0m\u001b[0mkey\u001b[0m\u001b[1;33m)\u001b[0m\u001b[1;33m\u001b[0m\u001b[0m\n\u001b[0;32m   2138\u001b[0m         \u001b[1;32melse\u001b[0m\u001b[1;33m:\u001b[0m\u001b[1;33m\u001b[0m\u001b[0m\n\u001b[1;32m-> 2139\u001b[1;33m             \u001b[1;32mreturn\u001b[0m \u001b[0mself\u001b[0m\u001b[1;33m.\u001b[0m\u001b[0m_getitem_column\u001b[0m\u001b[1;33m(\u001b[0m\u001b[0mkey\u001b[0m\u001b[1;33m)\u001b[0m\u001b[1;33m\u001b[0m\u001b[0m\n\u001b[0m\u001b[0;32m   2140\u001b[0m \u001b[1;33m\u001b[0m\u001b[0m\n\u001b[0;32m   2141\u001b[0m     \u001b[1;32mdef\u001b[0m \u001b[0m_getitem_column\u001b[0m\u001b[1;33m(\u001b[0m\u001b[0mself\u001b[0m\u001b[1;33m,\u001b[0m \u001b[0mkey\u001b[0m\u001b[1;33m)\u001b[0m\u001b[1;33m:\u001b[0m\u001b[1;33m\u001b[0m\u001b[0m\n",
      "\u001b[1;32m~\\AppData\\Local\\Continuum\\anaconda3\\lib\\site-packages\\pandas\\core\\frame.py\u001b[0m in \u001b[0;36m_getitem_column\u001b[1;34m(self, key)\u001b[0m\n\u001b[0;32m   2144\u001b[0m         \u001b[1;31m# get column\u001b[0m\u001b[1;33m\u001b[0m\u001b[1;33m\u001b[0m\u001b[0m\n\u001b[0;32m   2145\u001b[0m         \u001b[1;32mif\u001b[0m \u001b[0mself\u001b[0m\u001b[1;33m.\u001b[0m\u001b[0mcolumns\u001b[0m\u001b[1;33m.\u001b[0m\u001b[0mis_unique\u001b[0m\u001b[1;33m:\u001b[0m\u001b[1;33m\u001b[0m\u001b[0m\n\u001b[1;32m-> 2146\u001b[1;33m             \u001b[1;32mreturn\u001b[0m \u001b[0mself\u001b[0m\u001b[1;33m.\u001b[0m\u001b[0m_get_item_cache\u001b[0m\u001b[1;33m(\u001b[0m\u001b[0mkey\u001b[0m\u001b[1;33m)\u001b[0m\u001b[1;33m\u001b[0m\u001b[0m\n\u001b[0m\u001b[0;32m   2147\u001b[0m \u001b[1;33m\u001b[0m\u001b[0m\n\u001b[0;32m   2148\u001b[0m         \u001b[1;31m# duplicate columns & possible reduce dimensionality\u001b[0m\u001b[1;33m\u001b[0m\u001b[1;33m\u001b[0m\u001b[0m\n",
      "\u001b[1;32m~\\AppData\\Local\\Continuum\\anaconda3\\lib\\site-packages\\pandas\\core\\generic.py\u001b[0m in \u001b[0;36m_get_item_cache\u001b[1;34m(self, item)\u001b[0m\n\u001b[0;32m   1840\u001b[0m         \u001b[0mres\u001b[0m \u001b[1;33m=\u001b[0m \u001b[0mcache\u001b[0m\u001b[1;33m.\u001b[0m\u001b[0mget\u001b[0m\u001b[1;33m(\u001b[0m\u001b[0mitem\u001b[0m\u001b[1;33m)\u001b[0m\u001b[1;33m\u001b[0m\u001b[0m\n\u001b[0;32m   1841\u001b[0m         \u001b[1;32mif\u001b[0m \u001b[0mres\u001b[0m \u001b[1;32mis\u001b[0m \u001b[1;32mNone\u001b[0m\u001b[1;33m:\u001b[0m\u001b[1;33m\u001b[0m\u001b[0m\n\u001b[1;32m-> 1842\u001b[1;33m             \u001b[0mvalues\u001b[0m \u001b[1;33m=\u001b[0m \u001b[0mself\u001b[0m\u001b[1;33m.\u001b[0m\u001b[0m_data\u001b[0m\u001b[1;33m.\u001b[0m\u001b[0mget\u001b[0m\u001b[1;33m(\u001b[0m\u001b[0mitem\u001b[0m\u001b[1;33m)\u001b[0m\u001b[1;33m\u001b[0m\u001b[0m\n\u001b[0m\u001b[0;32m   1843\u001b[0m             \u001b[0mres\u001b[0m \u001b[1;33m=\u001b[0m \u001b[0mself\u001b[0m\u001b[1;33m.\u001b[0m\u001b[0m_box_item_values\u001b[0m\u001b[1;33m(\u001b[0m\u001b[0mitem\u001b[0m\u001b[1;33m,\u001b[0m \u001b[0mvalues\u001b[0m\u001b[1;33m)\u001b[0m\u001b[1;33m\u001b[0m\u001b[0m\n\u001b[0;32m   1844\u001b[0m             \u001b[0mcache\u001b[0m\u001b[1;33m[\u001b[0m\u001b[0mitem\u001b[0m\u001b[1;33m]\u001b[0m \u001b[1;33m=\u001b[0m \u001b[0mres\u001b[0m\u001b[1;33m\u001b[0m\u001b[0m\n",
      "\u001b[1;32m~\\AppData\\Local\\Continuum\\anaconda3\\lib\\site-packages\\pandas\\core\\internals.py\u001b[0m in \u001b[0;36mget\u001b[1;34m(self, item, fastpath)\u001b[0m\n\u001b[0;32m   3841\u001b[0m \u001b[1;33m\u001b[0m\u001b[0m\n\u001b[0;32m   3842\u001b[0m             \u001b[1;32mif\u001b[0m \u001b[1;32mnot\u001b[0m \u001b[0misna\u001b[0m\u001b[1;33m(\u001b[0m\u001b[0mitem\u001b[0m\u001b[1;33m)\u001b[0m\u001b[1;33m:\u001b[0m\u001b[1;33m\u001b[0m\u001b[0m\n\u001b[1;32m-> 3843\u001b[1;33m                 \u001b[0mloc\u001b[0m \u001b[1;33m=\u001b[0m \u001b[0mself\u001b[0m\u001b[1;33m.\u001b[0m\u001b[0mitems\u001b[0m\u001b[1;33m.\u001b[0m\u001b[0mget_loc\u001b[0m\u001b[1;33m(\u001b[0m\u001b[0mitem\u001b[0m\u001b[1;33m)\u001b[0m\u001b[1;33m\u001b[0m\u001b[0m\n\u001b[0m\u001b[0;32m   3844\u001b[0m             \u001b[1;32melse\u001b[0m\u001b[1;33m:\u001b[0m\u001b[1;33m\u001b[0m\u001b[0m\n\u001b[0;32m   3845\u001b[0m                 \u001b[0mindexer\u001b[0m \u001b[1;33m=\u001b[0m \u001b[0mnp\u001b[0m\u001b[1;33m.\u001b[0m\u001b[0marange\u001b[0m\u001b[1;33m(\u001b[0m\u001b[0mlen\u001b[0m\u001b[1;33m(\u001b[0m\u001b[0mself\u001b[0m\u001b[1;33m.\u001b[0m\u001b[0mitems\u001b[0m\u001b[1;33m)\u001b[0m\u001b[1;33m)\u001b[0m\u001b[1;33m[\u001b[0m\u001b[0misna\u001b[0m\u001b[1;33m(\u001b[0m\u001b[0mself\u001b[0m\u001b[1;33m.\u001b[0m\u001b[0mitems\u001b[0m\u001b[1;33m)\u001b[0m\u001b[1;33m]\u001b[0m\u001b[1;33m\u001b[0m\u001b[0m\n",
      "\u001b[1;32m~\\AppData\\Local\\Continuum\\anaconda3\\lib\\site-packages\\pandas\\core\\indexes\\base.py\u001b[0m in \u001b[0;36mget_loc\u001b[1;34m(self, key, method, tolerance)\u001b[0m\n\u001b[0;32m   2525\u001b[0m                 \u001b[1;32mreturn\u001b[0m \u001b[0mself\u001b[0m\u001b[1;33m.\u001b[0m\u001b[0m_engine\u001b[0m\u001b[1;33m.\u001b[0m\u001b[0mget_loc\u001b[0m\u001b[1;33m(\u001b[0m\u001b[0mkey\u001b[0m\u001b[1;33m)\u001b[0m\u001b[1;33m\u001b[0m\u001b[0m\n\u001b[0;32m   2526\u001b[0m             \u001b[1;32mexcept\u001b[0m \u001b[0mKeyError\u001b[0m\u001b[1;33m:\u001b[0m\u001b[1;33m\u001b[0m\u001b[0m\n\u001b[1;32m-> 2527\u001b[1;33m                 \u001b[1;32mreturn\u001b[0m \u001b[0mself\u001b[0m\u001b[1;33m.\u001b[0m\u001b[0m_engine\u001b[0m\u001b[1;33m.\u001b[0m\u001b[0mget_loc\u001b[0m\u001b[1;33m(\u001b[0m\u001b[0mself\u001b[0m\u001b[1;33m.\u001b[0m\u001b[0m_maybe_cast_indexer\u001b[0m\u001b[1;33m(\u001b[0m\u001b[0mkey\u001b[0m\u001b[1;33m)\u001b[0m\u001b[1;33m)\u001b[0m\u001b[1;33m\u001b[0m\u001b[0m\n\u001b[0m\u001b[0;32m   2528\u001b[0m \u001b[1;33m\u001b[0m\u001b[0m\n\u001b[0;32m   2529\u001b[0m         \u001b[0mindexer\u001b[0m \u001b[1;33m=\u001b[0m \u001b[0mself\u001b[0m\u001b[1;33m.\u001b[0m\u001b[0mget_indexer\u001b[0m\u001b[1;33m(\u001b[0m\u001b[1;33m[\u001b[0m\u001b[0mkey\u001b[0m\u001b[1;33m]\u001b[0m\u001b[1;33m,\u001b[0m \u001b[0mmethod\u001b[0m\u001b[1;33m=\u001b[0m\u001b[0mmethod\u001b[0m\u001b[1;33m,\u001b[0m \u001b[0mtolerance\u001b[0m\u001b[1;33m=\u001b[0m\u001b[0mtolerance\u001b[0m\u001b[1;33m)\u001b[0m\u001b[1;33m\u001b[0m\u001b[0m\n",
      "\u001b[1;32mpandas/_libs/index.pyx\u001b[0m in \u001b[0;36mpandas._libs.index.IndexEngine.get_loc\u001b[1;34m()\u001b[0m\n",
      "\u001b[1;32mpandas/_libs/index.pyx\u001b[0m in \u001b[0;36mpandas._libs.index.IndexEngine.get_loc\u001b[1;34m()\u001b[0m\n",
      "\u001b[1;32mpandas/_libs/hashtable_class_helper.pxi\u001b[0m in \u001b[0;36mpandas._libs.hashtable.PyObjectHashTable.get_item\u001b[1;34m()\u001b[0m\n",
      "\u001b[1;32mpandas/_libs/hashtable_class_helper.pxi\u001b[0m in \u001b[0;36mpandas._libs.hashtable.PyObjectHashTable.get_item\u001b[1;34m()\u001b[0m\n",
      "\u001b[1;31mKeyError\u001b[0m: 'Home Team Name'"
     ]
    }
   ],
   "source": [
    "wc_teams = ['Australia','Iran','Japan','Korea','Saudi Arabia',\n",
    "            'Egypt','Morocco','Nigeria','Senegal','Tunisia',\n",
    "            'Costa Rica','Mexico','Panama','Argentina','Brazil',\n",
    "            'Colombia','Peru','Uruguay','Belgium','Croatia','Denmark',\n",
    "            'England','France','Germany','Iceland','Poland','Portugal',\n",
    "            'Russia','Serbia','Spain','Sweden','Switzerland']\n",
    "wc_home = features[features['Home Team Name'].isin(wc_teams)]\n",
    "wc_home = wc_home.drop(columns='Stage')\n",
    "wc_away = features[features['Away Team Name'].isin(wc_teams)]\n",
    "wc_away = wc_away.drop(columns='Stage')\n",
    "wc_teams = pd.concat((wc_home,wc_away))\n",
    "wc_teams.drop_duplicates()\n",
    "wc_teams.count()\n",
    "wc_teams\n",
    "final_pred = pd.get_dummies(wc_teams)\n",
    "final_pred = final_pred.drop([\"Home Team Goals\",\"Away Team Goals\",\"Home Team Win\"],axis = 1)"
   ]
  },
  {
   "cell_type": "code",
   "execution_count": 82,
   "metadata": {
    "scrolled": false
   },
   "outputs": [
    {
     "name": "stdout",
     "output_type": "stream",
     "text": [
      "True\n",
      "True\n",
      "False\n",
      "True\n",
      "True\n",
      "True\n",
      "True\n",
      "True\n",
      "True\n",
      "False\n",
      "False\n",
      "True\n",
      "True\n",
      "True\n",
      "True\n",
      "True\n",
      "True\n",
      "True\n",
      "True\n",
      "True\n",
      "True\n",
      "True\n",
      "True\n",
      "True\n",
      "True\n",
      "True\n",
      "True\n",
      "True\n",
      "False\n",
      "True\n",
      "True\n",
      "True\n",
      "True\n",
      "True\n",
      "True\n",
      "True\n",
      "True\n",
      "True\n",
      "False\n",
      "True\n",
      "False\n",
      "False\n",
      "False\n",
      "False\n",
      "False\n",
      "False\n",
      "True\n",
      "True\n"
     ]
    }
   ],
   "source": [
    "group = {\"Home Team Name\" : [\"Russia\",\"Egypt\",\"Russia\",\"Uruguay\",\"Uruguay\",\"Saudi Arabia\",\"Morocco\",\"Portugal\",\"Portugal\",\"Iran\",\"Spain\",\"Iran\",\"France\",\"Peru\",\"Denmark\",\"France\",\"Australia\",\"Denmark\",\"Argentina\",\"Croatia\",\"Argentina\",\"Nigeria\",\"Nigeria\",\"Iceland\",\"Costa Rica\",\"Brazil\",\"Brazil\",\"Serbia\",\"Serbia\",\"Switzerland\",\"Germany\",\"Sweden\",\"Korea Republic\",\"Germany\",\"Korea Republic\",\"Mexico\",\"Belgium\",\"Tunisia\",\"Belgium\",\"England\",\"Panama\",\"England\",\"Colombia\",\"Poland\",\"Japan\",\"Poland\",\"Japan\",\"Senegal\"],\n",
    "           \"Away Team Name\" : [\"Saudi Arabia\", \"Uruguay\",\"Egypt\",\"Saudi Arabia\",\"Russia\",\"Egypt\",\"Iran\",\"Spain\",\"Morocco\",\"Spain\",\"Morocco\",\"Portugal\",\"Australia\",\"Denmark\",\"Australia\",\"Peru\",\"Peru\",\"France\",\"Iceland\",\"Nigeria\",\"Croatia\",\"Iceland\",\"Argentina\",\"Croatia\",\"Serbia\",\"Switzerland\",\"Costa Rica\",\"Switzerland\",\"Brazil\",\"Costa Rica\",\"Mexico\",\"Korea Republic\",\"Mexico\",\"Sweden\",\"Germany\",\"Sweden\",\"Panama\",\"England\",\"Tunisia\",\"Panama\",\"Tunisia\",\"Belgium\",\"Japan\",\"Senegal\",\"Senegal\",\"Colombia\",\"Poland\",\"Colombia\"]}\n",
    "WC = pd.DataFrame.from_dict(group)\n",
    "#WC[\"Home Team Name\"] = \"Russia\"\n",
    "#WC[\"Away Team Name\"] = \"Saudi Arabia\"\n",
    "predict_set = pd.get_dummies(WC)\n",
    "WC_col = features.iloc[:0]\n",
    "WC_col = WC_col.append(predict_set)\n",
    "WC_col.fillna(value = 0,inplace = True)\n",
    "#predict_set\n",
    "#set(WC_col.columns) - set(features.columns)\n",
    "predictions = clf.predict(WC_col)\n",
    "for i in predictions:\n",
    "    print(i)"
   ]
  },
  {
   "cell_type": "code",
   "execution_count": 85,
   "metadata": {},
   "outputs": [
    {
     "name": "stdout",
     "output_type": "stream",
     "text": [
      "True\n",
      "False\n",
      "True\n",
      "True\n",
      "True\n",
      "True\n",
      "True\n",
      "False\n"
     ]
    }
   ],
   "source": [
    "elimination = {\"Home Team Name\" : [\"Egypt\",\"Uruguay\",\"France\",\"Denmark\",\"Brazil\",\"Switzerland\",\"Tunisia\",\"Belgium\"],\n",
    "           \"Away Team Name\" : [\"Portugal\",\"Morocco\",\"Nigeria\",\"Argentina\",\"Korea Republic\",\"Germany\",\"Colombia\",\"Senegal\"]}\n",
    "WC = pd.DataFrame.from_dict(elimination)\n",
    "#WC[\"Home Team Name\"] = \"Russia\"\n",
    "#WC[\"Away Team Name\"] = \"Saudi Arabia\"\n",
    "predict_set = pd.get_dummies(WC)\n",
    "WC_col = features.iloc[:0]\n",
    "WC_col = WC_col.append(predict_set)\n",
    "WC_col.fillna(value = 0,inplace = True)\n",
    "#predict_set\n",
    "#set(WC_col.columns) - set(features.columns)\n",
    "predictions = clf.predict(WC_col)\n",
    "for i in predictions:\n",
    "    print(i)"
   ]
  },
  {
   "cell_type": "code",
   "execution_count": 88,
   "metadata": {},
   "outputs": [
    {
     "name": "stdout",
     "output_type": "stream",
     "text": [
      "True\n",
      "True\n",
      "False\n",
      "True\n"
     ]
    }
   ],
   "source": [
    "quarter = {\"Home Team Name\" : [\"Egypt\",\"Morocco\",\"Brazil\",\"Switzerland\"],\n",
    "           \"Away Team Name\" : [\"France\",\"Denmark\",\"Tunisia\",\"Senegal\"]}\n",
    "WC = pd.DataFrame.from_dict(quarter)\n",
    "#WC[\"Home Team Name\"] = \"Russia\"\n",
    "#WC[\"Away Team Name\"] = \"Saudi Arabia\"\n",
    "predict_set = pd.get_dummies(WC)\n",
    "WC_col = features.iloc[:0]\n",
    "WC_col = WC_col.append(predict_set)\n",
    "WC_col.fillna(value = 0,inplace = True)\n",
    "#predict_set\n",
    "#set(WC_col.columns) - set(features.columns)\n",
    "predictions = clf.predict(WC_col)\n",
    "for i in predictions:\n",
    "    print(i)"
   ]
  },
  {
   "cell_type": "code",
   "execution_count": 72,
   "metadata": {},
   "outputs": [
    {
     "name": "stdout",
     "output_type": "stream",
     "text": [
      "[[0.68484848 0.31515152]\n",
      " [0.35       0.65      ]]\n"
     ]
    }
   ],
   "source": [
    "semi = {\"Home Team Name\" : [\"Morocco\",\"Sweden\"],\n",
    "           \"Away Team Name\" : [\"Argentina\",\"Senegal\"]}\n",
    "WC = pd.DataFrame.from_dict(semi)\n",
    "#WC[\"Home Team Name\"] = \"Russia\"\n",
    "#WC[\"Away Team Name\"] = \"Saudi Arabia\"\n",
    "predict_set = pd.get_dummies(WC)\n",
    "WC_col = features.iloc[:0]\n",
    "WC_col = WC_col.append(predict_set)\n",
    "WC_col.fillna(value = 0,inplace = True)\n",
    "#predict_set\n",
    "#set(WC_col.columns) - set(features.columns)\n",
    "predictions = clf.predict_proba(WC_col)\n",
    "print(predictions)"
   ]
  },
  {
   "cell_type": "code",
   "execution_count": 73,
   "metadata": {},
   "outputs": [
    {
     "name": "stdout",
     "output_type": "stream",
     "text": [
      "[[0.65166667 0.34833333]]\n"
     ]
    }
   ],
   "source": [
    "final = {\"Home Team Name\" : [\"Argentina\"],\n",
    "           \"Away Team Name\" : [\"Sweden\"]}\n",
    "WC = pd.DataFrame.from_dict(final)\n",
    "#WC[\"Home Team Name\"] = \"Russia\"\n",
    "#WC[\"Away Team Name\"] = \"Saudi Arabia\"\n",
    "predict_set = pd.get_dummies(WC)\n",
    "WC_col = features.iloc[:0]\n",
    "WC_col = WC_col.append(predict_set)\n",
    "WC_col.fillna(value = 0,inplace = True)\n",
    "#predict_set\n",
    "#set(WC_col.columns) - set(features.columns)\n",
    "predictions = clf.predict_proba(WC_col)\n",
    "print(predictions)"
   ]
  },
  {
   "cell_type": "code",
   "execution_count": null,
   "metadata": {},
   "outputs": [],
   "source": []
  },
  {
   "cell_type": "code",
   "execution_count": null,
   "metadata": {},
   "outputs": [],
   "source": []
  },
  {
   "cell_type": "code",
   "execution_count": null,
   "metadata": {},
   "outputs": [],
   "source": []
  }
 ],
 "metadata": {
  "kernelspec": {
   "display_name": "Python 3",
   "language": "python",
   "name": "python3"
  },
  "language_info": {
   "codemirror_mode": {
    "name": "ipython",
    "version": 3
   },
   "file_extension": ".py",
   "mimetype": "text/x-python",
   "name": "python",
   "nbconvert_exporter": "python",
   "pygments_lexer": "ipython3",
   "version": "3.6.4"
  }
 },
 "nbformat": 4,
 "nbformat_minor": 2
}
